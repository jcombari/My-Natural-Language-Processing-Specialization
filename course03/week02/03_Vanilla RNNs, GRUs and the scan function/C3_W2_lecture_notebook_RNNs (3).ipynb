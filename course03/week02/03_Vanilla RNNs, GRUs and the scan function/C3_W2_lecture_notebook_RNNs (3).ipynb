
% Default to the notebook output style

    


% Inherit from the specified cell style.




    
\documentclass[11pt]{article}

    
    
    \usepackage[T1]{fontenc}
    % Nicer default font (+ math font) than Computer Modern for most use cases
    \usepackage{mathpazo}

    % Basic figure setup, for now with no caption control since it's done
    % automatically by Pandoc (which extracts ![](path) syntax from Markdown).
    \usepackage{graphicx}
    % We will generate all images so they have a width \maxwidth. This means
    % that they will get their normal width if they fit onto the page, but
    % are scaled down if they would overflow the margins.
    \makeatletter
    \def\maxwidth{\ifdim\Gin@nat@width>\linewidth\linewidth
    \else\Gin@nat@width\fi}
    \makeatother
    \let\Oldincludegraphics\includegraphics
    % Set max figure width to be 80% of text width, for now hardcoded.
    \renewcommand{\includegraphics}[1]{\Oldincludegraphics[width=.8\maxwidth]{#1}}
    % Ensure that by default, figures have no caption (until we provide a
    % proper Figure object with a Caption API and a way to capture that
    % in the conversion process - todo).
    \usepackage{caption}
    \DeclareCaptionLabelFormat{nolabel}{}
    \captionsetup{labelformat=nolabel}

    \usepackage{adjustbox} % Used to constrain images to a maximum size 
    \usepackage{xcolor} % Allow colors to be defined
    \usepackage{enumerate} % Needed for markdown enumerations to work
    \usepackage{geometry} % Used to adjust the document margins
    \usepackage{amsmath} % Equations
    \usepackage{amssymb} % Equations
    \usepackage{textcomp} % defines textquotesingle
    % Hack from http://tex.stackexchange.com/a/47451/13684:
    \AtBeginDocument{%
        \def\PYZsq{\textquotesingle}% Upright quotes in Pygmentized code
    }
    \usepackage{upquote} % Upright quotes for verbatim code
    \usepackage{eurosym} % defines \euro
    \usepackage[mathletters]{ucs} % Extended unicode (utf-8) support
    \usepackage[utf8x]{inputenc} % Allow utf-8 characters in the tex document
    \usepackage{fancyvrb} % verbatim replacement that allows latex
    \usepackage{grffile} % extends the file name processing of package graphics 
                         % to support a larger range 
    % The hyperref package gives us a pdf with properly built
    % internal navigation ('pdf bookmarks' for the table of contents,
    % internal cross-reference links, web links for URLs, etc.)
    \usepackage{hyperref}
    \usepackage{longtable} % longtable support required by pandoc >1.10
    \usepackage{booktabs}  % table support for pandoc > 1.12.2
    \usepackage[inline]{enumitem} % IRkernel/repr support (it uses the enumerate* environment)
    \usepackage[normalem]{ulem} % ulem is needed to support strikethroughs (\sout)
                                % normalem makes italics be italics, not underlines
    \usepackage{mathrsfs}
    

    
    
    % Colors for the hyperref package
    \definecolor{urlcolor}{rgb}{0,.145,.698}
    \definecolor{linkcolor}{rgb}{.71,0.21,0.01}
    \definecolor{citecolor}{rgb}{.12,.54,.11}

    % ANSI colors
    \definecolor{ansi-black}{HTML}{3E424D}
    \definecolor{ansi-black-intense}{HTML}{282C36}
    \definecolor{ansi-red}{HTML}{E75C58}
    \definecolor{ansi-red-intense}{HTML}{B22B31}
    \definecolor{ansi-green}{HTML}{00A250}
    \definecolor{ansi-green-intense}{HTML}{007427}
    \definecolor{ansi-yellow}{HTML}{DDB62B}
    \definecolor{ansi-yellow-intense}{HTML}{B27D12}
    \definecolor{ansi-blue}{HTML}{208FFB}
    \definecolor{ansi-blue-intense}{HTML}{0065CA}
    \definecolor{ansi-magenta}{HTML}{D160C4}
    \definecolor{ansi-magenta-intense}{HTML}{A03196}
    \definecolor{ansi-cyan}{HTML}{60C6C8}
    \definecolor{ansi-cyan-intense}{HTML}{258F8F}
    \definecolor{ansi-white}{HTML}{C5C1B4}
    \definecolor{ansi-white-intense}{HTML}{A1A6B2}
    \definecolor{ansi-default-inverse-fg}{HTML}{FFFFFF}
    \definecolor{ansi-default-inverse-bg}{HTML}{000000}

    % commands and environments needed by pandoc snippets
    % extracted from the output of `pandoc -s`
    \providecommand{\tightlist}{%
      \setlength{\itemsep}{0pt}\setlength{\parskip}{0pt}}
    \DefineVerbatimEnvironment{Highlighting}{Verbatim}{commandchars=\\\{\}}
    % Add ',fontsize=\small' for more characters per line
    \newenvironment{Shaded}{}{}
    \newcommand{\KeywordTok}[1]{\textcolor[rgb]{0.00,0.44,0.13}{\textbf{{#1}}}}
    \newcommand{\DataTypeTok}[1]{\textcolor[rgb]{0.56,0.13,0.00}{{#1}}}
    \newcommand{\DecValTok}[1]{\textcolor[rgb]{0.25,0.63,0.44}{{#1}}}
    \newcommand{\BaseNTok}[1]{\textcolor[rgb]{0.25,0.63,0.44}{{#1}}}
    \newcommand{\FloatTok}[1]{\textcolor[rgb]{0.25,0.63,0.44}{{#1}}}
    \newcommand{\CharTok}[1]{\textcolor[rgb]{0.25,0.44,0.63}{{#1}}}
    \newcommand{\StringTok}[1]{\textcolor[rgb]{0.25,0.44,0.63}{{#1}}}
    \newcommand{\CommentTok}[1]{\textcolor[rgb]{0.38,0.63,0.69}{\textit{{#1}}}}
    \newcommand{\OtherTok}[1]{\textcolor[rgb]{0.00,0.44,0.13}{{#1}}}
    \newcommand{\AlertTok}[1]{\textcolor[rgb]{1.00,0.00,0.00}{\textbf{{#1}}}}
    \newcommand{\FunctionTok}[1]{\textcolor[rgb]{0.02,0.16,0.49}{{#1}}}
    \newcommand{\RegionMarkerTok}[1]{{#1}}
    \newcommand{\ErrorTok}[1]{\textcolor[rgb]{1.00,0.00,0.00}{\textbf{{#1}}}}
    \newcommand{\NormalTok}[1]{{#1}}
    
    % Additional commands for more recent versions of Pandoc
    \newcommand{\ConstantTok}[1]{\textcolor[rgb]{0.53,0.00,0.00}{{#1}}}
    \newcommand{\SpecialCharTok}[1]{\textcolor[rgb]{0.25,0.44,0.63}{{#1}}}
    \newcommand{\VerbatimStringTok}[1]{\textcolor[rgb]{0.25,0.44,0.63}{{#1}}}
    \newcommand{\SpecialStringTok}[1]{\textcolor[rgb]{0.73,0.40,0.53}{{#1}}}
    \newcommand{\ImportTok}[1]{{#1}}
    \newcommand{\DocumentationTok}[1]{\textcolor[rgb]{0.73,0.13,0.13}{\textit{{#1}}}}
    \newcommand{\AnnotationTok}[1]{\textcolor[rgb]{0.38,0.63,0.69}{\textbf{\textit{{#1}}}}}
    \newcommand{\CommentVarTok}[1]{\textcolor[rgb]{0.38,0.63,0.69}{\textbf{\textit{{#1}}}}}
    \newcommand{\VariableTok}[1]{\textcolor[rgb]{0.10,0.09,0.49}{{#1}}}
    \newcommand{\ControlFlowTok}[1]{\textcolor[rgb]{0.00,0.44,0.13}{\textbf{{#1}}}}
    \newcommand{\OperatorTok}[1]{\textcolor[rgb]{0.40,0.40,0.40}{{#1}}}
    \newcommand{\BuiltInTok}[1]{{#1}}
    \newcommand{\ExtensionTok}[1]{{#1}}
    \newcommand{\PreprocessorTok}[1]{\textcolor[rgb]{0.74,0.48,0.00}{{#1}}}
    \newcommand{\AttributeTok}[1]{\textcolor[rgb]{0.49,0.56,0.16}{{#1}}}
    \newcommand{\InformationTok}[1]{\textcolor[rgb]{0.38,0.63,0.69}{\textbf{\textit{{#1}}}}}
    \newcommand{\WarningTok}[1]{\textcolor[rgb]{0.38,0.63,0.69}{\textbf{\textit{{#1}}}}}
    
    
    % Define a nice break command that doesn't care if a line doesn't already
    % exist.
    \def\br{\hspace*{\fill} \\* }
    % Math Jax compatibility definitions
    \def\gt{>}
    \def\lt{<}
    \let\Oldtex\TeX
    \let\Oldlatex\LaTeX
    \renewcommand{\TeX}{\textrm{\Oldtex}}
    \renewcommand{\LaTeX}{\textrm{\Oldlatex}}
    % Document parameters
    % Document title
    \title{C3\_W2\_lecture\_notebook\_RNNs}
    
    
    
    
    

    % Pygments definitions
    
\makeatletter
\def\PY@reset{\let\PY@it=\relax \let\PY@bf=\relax%
    \let\PY@ul=\relax \let\PY@tc=\relax%
    \let\PY@bc=\relax \let\PY@ff=\relax}
\def\PY@tok#1{\csname PY@tok@#1\endcsname}
\def\PY@toks#1+{\ifx\relax#1\empty\else%
    \PY@tok{#1}\expandafter\PY@toks\fi}
\def\PY@do#1{\PY@bc{\PY@tc{\PY@ul{%
    \PY@it{\PY@bf{\PY@ff{#1}}}}}}}
\def\PY#1#2{\PY@reset\PY@toks#1+\relax+\PY@do{#2}}

\expandafter\def\csname PY@tok@w\endcsname{\def\PY@tc##1{\textcolor[rgb]{0.73,0.73,0.73}{##1}}}
\expandafter\def\csname PY@tok@c\endcsname{\let\PY@it=\textit\def\PY@tc##1{\textcolor[rgb]{0.25,0.50,0.50}{##1}}}
\expandafter\def\csname PY@tok@cp\endcsname{\def\PY@tc##1{\textcolor[rgb]{0.74,0.48,0.00}{##1}}}
\expandafter\def\csname PY@tok@k\endcsname{\let\PY@bf=\textbf\def\PY@tc##1{\textcolor[rgb]{0.00,0.50,0.00}{##1}}}
\expandafter\def\csname PY@tok@kp\endcsname{\def\PY@tc##1{\textcolor[rgb]{0.00,0.50,0.00}{##1}}}
\expandafter\def\csname PY@tok@kt\endcsname{\def\PY@tc##1{\textcolor[rgb]{0.69,0.00,0.25}{##1}}}
\expandafter\def\csname PY@tok@o\endcsname{\def\PY@tc##1{\textcolor[rgb]{0.40,0.40,0.40}{##1}}}
\expandafter\def\csname PY@tok@ow\endcsname{\let\PY@bf=\textbf\def\PY@tc##1{\textcolor[rgb]{0.67,0.13,1.00}{##1}}}
\expandafter\def\csname PY@tok@nb\endcsname{\def\PY@tc##1{\textcolor[rgb]{0.00,0.50,0.00}{##1}}}
\expandafter\def\csname PY@tok@nf\endcsname{\def\PY@tc##1{\textcolor[rgb]{0.00,0.00,1.00}{##1}}}
\expandafter\def\csname PY@tok@nc\endcsname{\let\PY@bf=\textbf\def\PY@tc##1{\textcolor[rgb]{0.00,0.00,1.00}{##1}}}
\expandafter\def\csname PY@tok@nn\endcsname{\let\PY@bf=\textbf\def\PY@tc##1{\textcolor[rgb]{0.00,0.00,1.00}{##1}}}
\expandafter\def\csname PY@tok@ne\endcsname{\let\PY@bf=\textbf\def\PY@tc##1{\textcolor[rgb]{0.82,0.25,0.23}{##1}}}
\expandafter\def\csname PY@tok@nv\endcsname{\def\PY@tc##1{\textcolor[rgb]{0.10,0.09,0.49}{##1}}}
\expandafter\def\csname PY@tok@no\endcsname{\def\PY@tc##1{\textcolor[rgb]{0.53,0.00,0.00}{##1}}}
\expandafter\def\csname PY@tok@nl\endcsname{\def\PY@tc##1{\textcolor[rgb]{0.63,0.63,0.00}{##1}}}
\expandafter\def\csname PY@tok@ni\endcsname{\let\PY@bf=\textbf\def\PY@tc##1{\textcolor[rgb]{0.60,0.60,0.60}{##1}}}
\expandafter\def\csname PY@tok@na\endcsname{\def\PY@tc##1{\textcolor[rgb]{0.49,0.56,0.16}{##1}}}
\expandafter\def\csname PY@tok@nt\endcsname{\let\PY@bf=\textbf\def\PY@tc##1{\textcolor[rgb]{0.00,0.50,0.00}{##1}}}
\expandafter\def\csname PY@tok@nd\endcsname{\def\PY@tc##1{\textcolor[rgb]{0.67,0.13,1.00}{##1}}}
\expandafter\def\csname PY@tok@s\endcsname{\def\PY@tc##1{\textcolor[rgb]{0.73,0.13,0.13}{##1}}}
\expandafter\def\csname PY@tok@sd\endcsname{\let\PY@it=\textit\def\PY@tc##1{\textcolor[rgb]{0.73,0.13,0.13}{##1}}}
\expandafter\def\csname PY@tok@si\endcsname{\let\PY@bf=\textbf\def\PY@tc##1{\textcolor[rgb]{0.73,0.40,0.53}{##1}}}
\expandafter\def\csname PY@tok@se\endcsname{\let\PY@bf=\textbf\def\PY@tc##1{\textcolor[rgb]{0.73,0.40,0.13}{##1}}}
\expandafter\def\csname PY@tok@sr\endcsname{\def\PY@tc##1{\textcolor[rgb]{0.73,0.40,0.53}{##1}}}
\expandafter\def\csname PY@tok@ss\endcsname{\def\PY@tc##1{\textcolor[rgb]{0.10,0.09,0.49}{##1}}}
\expandafter\def\csname PY@tok@sx\endcsname{\def\PY@tc##1{\textcolor[rgb]{0.00,0.50,0.00}{##1}}}
\expandafter\def\csname PY@tok@m\endcsname{\def\PY@tc##1{\textcolor[rgb]{0.40,0.40,0.40}{##1}}}
\expandafter\def\csname PY@tok@gh\endcsname{\let\PY@bf=\textbf\def\PY@tc##1{\textcolor[rgb]{0.00,0.00,0.50}{##1}}}
\expandafter\def\csname PY@tok@gu\endcsname{\let\PY@bf=\textbf\def\PY@tc##1{\textcolor[rgb]{0.50,0.00,0.50}{##1}}}
\expandafter\def\csname PY@tok@gd\endcsname{\def\PY@tc##1{\textcolor[rgb]{0.63,0.00,0.00}{##1}}}
\expandafter\def\csname PY@tok@gi\endcsname{\def\PY@tc##1{\textcolor[rgb]{0.00,0.63,0.00}{##1}}}
\expandafter\def\csname PY@tok@gr\endcsname{\def\PY@tc##1{\textcolor[rgb]{1.00,0.00,0.00}{##1}}}
\expandafter\def\csname PY@tok@ge\endcsname{\let\PY@it=\textit}
\expandafter\def\csname PY@tok@gs\endcsname{\let\PY@bf=\textbf}
\expandafter\def\csname PY@tok@gp\endcsname{\let\PY@bf=\textbf\def\PY@tc##1{\textcolor[rgb]{0.00,0.00,0.50}{##1}}}
\expandafter\def\csname PY@tok@go\endcsname{\def\PY@tc##1{\textcolor[rgb]{0.53,0.53,0.53}{##1}}}
\expandafter\def\csname PY@tok@gt\endcsname{\def\PY@tc##1{\textcolor[rgb]{0.00,0.27,0.87}{##1}}}
\expandafter\def\csname PY@tok@err\endcsname{\def\PY@bc##1{\setlength{\fboxsep}{0pt}\fcolorbox[rgb]{1.00,0.00,0.00}{1,1,1}{\strut ##1}}}
\expandafter\def\csname PY@tok@kc\endcsname{\let\PY@bf=\textbf\def\PY@tc##1{\textcolor[rgb]{0.00,0.50,0.00}{##1}}}
\expandafter\def\csname PY@tok@kd\endcsname{\let\PY@bf=\textbf\def\PY@tc##1{\textcolor[rgb]{0.00,0.50,0.00}{##1}}}
\expandafter\def\csname PY@tok@kn\endcsname{\let\PY@bf=\textbf\def\PY@tc##1{\textcolor[rgb]{0.00,0.50,0.00}{##1}}}
\expandafter\def\csname PY@tok@kr\endcsname{\let\PY@bf=\textbf\def\PY@tc##1{\textcolor[rgb]{0.00,0.50,0.00}{##1}}}
\expandafter\def\csname PY@tok@bp\endcsname{\def\PY@tc##1{\textcolor[rgb]{0.00,0.50,0.00}{##1}}}
\expandafter\def\csname PY@tok@fm\endcsname{\def\PY@tc##1{\textcolor[rgb]{0.00,0.00,1.00}{##1}}}
\expandafter\def\csname PY@tok@vc\endcsname{\def\PY@tc##1{\textcolor[rgb]{0.10,0.09,0.49}{##1}}}
\expandafter\def\csname PY@tok@vg\endcsname{\def\PY@tc##1{\textcolor[rgb]{0.10,0.09,0.49}{##1}}}
\expandafter\def\csname PY@tok@vi\endcsname{\def\PY@tc##1{\textcolor[rgb]{0.10,0.09,0.49}{##1}}}
\expandafter\def\csname PY@tok@vm\endcsname{\def\PY@tc##1{\textcolor[rgb]{0.10,0.09,0.49}{##1}}}
\expandafter\def\csname PY@tok@sa\endcsname{\def\PY@tc##1{\textcolor[rgb]{0.73,0.13,0.13}{##1}}}
\expandafter\def\csname PY@tok@sb\endcsname{\def\PY@tc##1{\textcolor[rgb]{0.73,0.13,0.13}{##1}}}
\expandafter\def\csname PY@tok@sc\endcsname{\def\PY@tc##1{\textcolor[rgb]{0.73,0.13,0.13}{##1}}}
\expandafter\def\csname PY@tok@dl\endcsname{\def\PY@tc##1{\textcolor[rgb]{0.73,0.13,0.13}{##1}}}
\expandafter\def\csname PY@tok@s2\endcsname{\def\PY@tc##1{\textcolor[rgb]{0.73,0.13,0.13}{##1}}}
\expandafter\def\csname PY@tok@sh\endcsname{\def\PY@tc##1{\textcolor[rgb]{0.73,0.13,0.13}{##1}}}
\expandafter\def\csname PY@tok@s1\endcsname{\def\PY@tc##1{\textcolor[rgb]{0.73,0.13,0.13}{##1}}}
\expandafter\def\csname PY@tok@mb\endcsname{\def\PY@tc##1{\textcolor[rgb]{0.40,0.40,0.40}{##1}}}
\expandafter\def\csname PY@tok@mf\endcsname{\def\PY@tc##1{\textcolor[rgb]{0.40,0.40,0.40}{##1}}}
\expandafter\def\csname PY@tok@mh\endcsname{\def\PY@tc##1{\textcolor[rgb]{0.40,0.40,0.40}{##1}}}
\expandafter\def\csname PY@tok@mi\endcsname{\def\PY@tc##1{\textcolor[rgb]{0.40,0.40,0.40}{##1}}}
\expandafter\def\csname PY@tok@il\endcsname{\def\PY@tc##1{\textcolor[rgb]{0.40,0.40,0.40}{##1}}}
\expandafter\def\csname PY@tok@mo\endcsname{\def\PY@tc##1{\textcolor[rgb]{0.40,0.40,0.40}{##1}}}
\expandafter\def\csname PY@tok@ch\endcsname{\let\PY@it=\textit\def\PY@tc##1{\textcolor[rgb]{0.25,0.50,0.50}{##1}}}
\expandafter\def\csname PY@tok@cm\endcsname{\let\PY@it=\textit\def\PY@tc##1{\textcolor[rgb]{0.25,0.50,0.50}{##1}}}
\expandafter\def\csname PY@tok@cpf\endcsname{\let\PY@it=\textit\def\PY@tc##1{\textcolor[rgb]{0.25,0.50,0.50}{##1}}}
\expandafter\def\csname PY@tok@c1\endcsname{\let\PY@it=\textit\def\PY@tc##1{\textcolor[rgb]{0.25,0.50,0.50}{##1}}}
\expandafter\def\csname PY@tok@cs\endcsname{\let\PY@it=\textit\def\PY@tc##1{\textcolor[rgb]{0.25,0.50,0.50}{##1}}}

\def\PYZbs{\char`\\}
\def\PYZus{\char`\_}
\def\PYZob{\char`\{}
\def\PYZcb{\char`\}}
\def\PYZca{\char`\^}
\def\PYZam{\char`\&}
\def\PYZlt{\char`\<}
\def\PYZgt{\char`\>}
\def\PYZsh{\char`\#}
\def\PYZpc{\char`\%}
\def\PYZdl{\char`\$}
\def\PYZhy{\char`\-}
\def\PYZsq{\char`\'}
\def\PYZdq{\char`\"}
\def\PYZti{\char`\~}
% for compatibility with earlier versions
\def\PYZat{@}
\def\PYZlb{[}
\def\PYZrb{]}
\makeatother


    % Exact colors from NB
    \definecolor{incolor}{rgb}{0.0, 0.0, 0.5}
    \definecolor{outcolor}{rgb}{0.545, 0.0, 0.0}



    
    % Prevent overflowing lines due to hard-to-break entities
    \sloppy 
    % Setup hyperref package
    \hypersetup{
      breaklinks=true,  % so long urls are correctly broken across lines
      colorlinks=true,
      urlcolor=urlcolor,
      linkcolor=linkcolor,
      citecolor=citecolor,
      }
    % Slightly bigger margins than the latex defaults
    
    \geometry{verbose,tmargin=1in,bmargin=1in,lmargin=1in,rmargin=1in}
    
    

    \begin{document}
    
    
    \maketitle
    
    

    
    \hypertarget{vanilla-rnns-grus-and-the-scan-function}{%
\section{\texorpdfstring{Vanilla RNNs, GRUs and the \texttt{scan}
function}{Vanilla RNNs, GRUs and the scan function}}\label{vanilla-rnns-grus-and-the-scan-function}}

    In this notebook, you will learn how to define the forward method for
vanilla RNNs and GRUs. Additionally, you will see how to define and use
the function \texttt{scan} to compute forward propagation for RNNs.

By completing this notebook, you will:

\begin{itemize}
\tightlist
\item
  Be able to define the forward method for vanilla RNNs and GRUs
\item
  Be able to define the \texttt{scan} function to perform forward
  propagation for RNNs
\item
  Understand how forward propagation is implemented for RNNs.
\end{itemize}

    \begin{Verbatim}[commandchars=\\\{\}]
{\color{incolor}In [{\color{incolor}1}]:} \PY{k+kn}{import} \PY{n+nn}{numpy} \PY{k}{as} \PY{n+nn}{np}
        \PY{k+kn}{from} \PY{n+nn}{numpy} \PY{k}{import} \PY{n}{random}
        \PY{k+kn}{from} \PY{n+nn}{time} \PY{k}{import} \PY{n}{perf\PYZus{}counter}
\end{Verbatim}

    An implementation of the \texttt{sigmoid} function is provided below so
you can use it in this notebook.

    \begin{Verbatim}[commandchars=\\\{\}]
{\color{incolor}In [{\color{incolor}2}]:} \PY{k}{def} \PY{n+nf}{sigmoid}\PY{p}{(}\PY{n}{x}\PY{p}{)}\PY{p}{:} \PY{c+c1}{\PYZsh{} Sigmoid function}
            \PY{k}{return} \PY{l+m+mf}{1.0} \PY{o}{/} \PY{p}{(}\PY{l+m+mf}{1.0} \PY{o}{+} \PY{n}{np}\PY{o}{.}\PY{n}{exp}\PY{p}{(}\PY{o}{\PYZhy{}}\PY{n}{x}\PY{p}{)}\PY{p}{)}
\end{Verbatim}

    \hypertarget{part-1-forward-method-for-vanilla-rnns-and-grus}{%
\section{Part 1: Forward method for vanilla RNNs and
GRUs}\label{part-1-forward-method-for-vanilla-rnns-and-grus}}

    In this part of the notebook, you'll see the implementation of the
forward method for a vanilla RNN and you'll implement that same method
for a GRU. For this excersice you'll use a set of random weights and
variables with the following dimensions:

\begin{itemize}
\tightlist
\item
  Embedding size (\texttt{emb}) : 128
\item
  Hidden state size (\texttt{h\_dim}) : (16,1)
\end{itemize}

The weights \texttt{w\_} and biases \texttt{b\_} are initialized with
dimensions (\texttt{h\_dim}, \texttt{emb\ +\ h\_dim}) and
(\texttt{h\_dim}, 1). We expect the hidden state \texttt{h\_t} to be a
column vector with size (\texttt{h\_dim},1) and the initial hidden state
\texttt{h\_0} is a vector of zeros.

    \begin{Verbatim}[commandchars=\\\{\}]
{\color{incolor}In [{\color{incolor}3}]:} \PY{n}{random}\PY{o}{.}\PY{n}{seed}\PY{p}{(}\PY{l+m+mi}{10}\PY{p}{)}                 \PY{c+c1}{\PYZsh{} Random seed, so your results match ours}
        \PY{n}{emb} \PY{o}{=} \PY{l+m+mi}{128}                       \PY{c+c1}{\PYZsh{} Embedding size}
        \PY{n}{T} \PY{o}{=} \PY{l+m+mi}{256}                         \PY{c+c1}{\PYZsh{} Number of variables in the sequences}
        \PY{n}{h\PYZus{}dim} \PY{o}{=} \PY{l+m+mi}{16}                      \PY{c+c1}{\PYZsh{} Hidden state dimension}
        \PY{n}{h\PYZus{}0} \PY{o}{=} \PY{n}{np}\PY{o}{.}\PY{n}{zeros}\PY{p}{(}\PY{p}{(}\PY{n}{h\PYZus{}dim}\PY{p}{,} \PY{l+m+mi}{1}\PY{p}{)}\PY{p}{)}      \PY{c+c1}{\PYZsh{} Initial hidden state}
        \PY{c+c1}{\PYZsh{} Random initialization of weights and biases}
        \PY{n}{w1} \PY{o}{=} \PY{n}{random}\PY{o}{.}\PY{n}{standard\PYZus{}normal}\PY{p}{(}\PY{p}{(}\PY{n}{h\PYZus{}dim}\PY{p}{,} \PY{n}{emb}\PY{o}{+}\PY{n}{h\PYZus{}dim}\PY{p}{)}\PY{p}{)}
        \PY{n}{w2} \PY{o}{=} \PY{n}{random}\PY{o}{.}\PY{n}{standard\PYZus{}normal}\PY{p}{(}\PY{p}{(}\PY{n}{h\PYZus{}dim}\PY{p}{,} \PY{n}{emb}\PY{o}{+}\PY{n}{h\PYZus{}dim}\PY{p}{)}\PY{p}{)}
        \PY{n}{w3} \PY{o}{=} \PY{n}{random}\PY{o}{.}\PY{n}{standard\PYZus{}normal}\PY{p}{(}\PY{p}{(}\PY{n}{h\PYZus{}dim}\PY{p}{,} \PY{n}{emb}\PY{o}{+}\PY{n}{h\PYZus{}dim}\PY{p}{)}\PY{p}{)}
        \PY{n}{b1} \PY{o}{=} \PY{n}{random}\PY{o}{.}\PY{n}{standard\PYZus{}normal}\PY{p}{(}\PY{p}{(}\PY{n}{h\PYZus{}dim}\PY{p}{,} \PY{l+m+mi}{1}\PY{p}{)}\PY{p}{)}
        \PY{n}{b2} \PY{o}{=} \PY{n}{random}\PY{o}{.}\PY{n}{standard\PYZus{}normal}\PY{p}{(}\PY{p}{(}\PY{n}{h\PYZus{}dim}\PY{p}{,} \PY{l+m+mi}{1}\PY{p}{)}\PY{p}{)}
        \PY{n}{b3} \PY{o}{=} \PY{n}{random}\PY{o}{.}\PY{n}{standard\PYZus{}normal}\PY{p}{(}\PY{p}{(}\PY{n}{h\PYZus{}dim}\PY{p}{,} \PY{l+m+mi}{1}\PY{p}{)}\PY{p}{)}
        \PY{n}{X} \PY{o}{=} \PY{n}{random}\PY{o}{.}\PY{n}{standard\PYZus{}normal}\PY{p}{(}\PY{p}{(}\PY{n}{T}\PY{p}{,} \PY{n}{emb}\PY{p}{,} \PY{l+m+mi}{1}\PY{p}{)}\PY{p}{)}
        \PY{n}{weights} \PY{o}{=} \PY{p}{[}\PY{n}{w1}\PY{p}{,} \PY{n}{w2}\PY{p}{,} \PY{n}{w3}\PY{p}{,} \PY{n}{b1}\PY{p}{,} \PY{n}{b2}\PY{p}{,} \PY{n}{b3}\PY{p}{]}
\end{Verbatim}

    \hypertarget{forward-method-for-vanilla-rnns}{%
\subsection{1.1 Forward method for vanilla
RNNs}\label{forward-method-for-vanilla-rnns}}

    The vanilla RNN cell is quite straight forward. Its most general
structure is presented in the next figure:

As you saw in the lecture videos, the computations made in a vanilla RNN
cell are equivalent to the following equations:

\begin{equation}
h^{<t>}=g(W_{h}[h^{<t-1>},x^{<t>}] + b_h)
\label{eq: htRNN}
\end{equation}

\begin{equation}
\hat{y}^{<t>}=g(W_{yh}h^{<t>} + b_y)
\label{eq: ytRNN}
\end{equation}

where \([h^{<t-1>},x^{<t>}]\) means that \(h^{<t-1>}\) and \(x^{<t>}\)
are concatenated together. In the next cell we provide the
implementation of the forward method for a vanilla RNN.

    \begin{Verbatim}[commandchars=\\\{\}]
{\color{incolor}In [{\color{incolor}4}]:} \PY{k}{def} \PY{n+nf}{forward\PYZus{}V\PYZus{}RNN}\PY{p}{(}\PY{n}{inputs}\PY{p}{,} \PY{n}{weights}\PY{p}{)}\PY{p}{:} \PY{c+c1}{\PYZsh{} Forward propagation for a a single vanilla RNN cell}
            \PY{n}{x}\PY{p}{,} \PY{n}{h\PYZus{}t} \PY{o}{=} \PY{n}{inputs}
        
            \PY{c+c1}{\PYZsh{} weights.}
            \PY{n}{wh}\PY{p}{,} \PY{n}{\PYZus{}}\PY{p}{,} \PY{n}{\PYZus{}}\PY{p}{,} \PY{n}{bh}\PY{p}{,} \PY{n}{\PYZus{}}\PY{p}{,} \PY{n}{\PYZus{}} \PY{o}{=} \PY{n}{weights}
        
            \PY{c+c1}{\PYZsh{} new hidden state}
            \PY{n}{h\PYZus{}t} \PY{o}{=} \PY{n}{np}\PY{o}{.}\PY{n}{dot}\PY{p}{(}\PY{n}{wh}\PY{p}{,} \PY{n}{np}\PY{o}{.}\PY{n}{concatenate}\PY{p}{(}\PY{p}{[}\PY{n}{h\PYZus{}t}\PY{p}{,} \PY{n}{x}\PY{p}{]}\PY{p}{)}\PY{p}{)} \PY{o}{+} \PY{n}{bh}
            \PY{n}{h\PYZus{}t} \PY{o}{=} \PY{n}{sigmoid}\PY{p}{(}\PY{n}{h\PYZus{}t}\PY{p}{)}
        
            \PY{k}{return} \PY{n}{h\PYZus{}t}\PY{p}{,} \PY{n}{h\PYZus{}t}
\end{Verbatim}

    As you can see, we omitted the computation of \(\hat{y}^{<t>}\). This
was done for the sake of simplicity, so you can focus on the way that
hidden states are updated here and in the GRU cell.

    \hypertarget{forward-method-for-grus}{%
\subsection{1.2 Forward method for GRUs}\label{forward-method-for-grus}}

    A GRU cell have more computations than the ones that vanilla RNNs have.
You can see this visually in the following diagram:

As you saw in the lecture videos, GRUs have relevance \(\Gamma_r\) and
update \(\Gamma_u\) gates that control how the hidden state \(h^{<t>}\)
is updated on every time step. With these gates, GRUs are capable of
keeping relevant information in the hidden state even for long
sequences. The equations needed for the forward method in GRUs are
provided below:

\begin{equation}
\Gamma_r=\sigma{(W_r[h^{<t-1>}, x^{<t>}]+b_r)}
\end{equation}

\begin{equation}
\Gamma_u=\sigma{(W_u[h^{<t-1>}, x^{<t>}]+b_u)}
\end{equation}

\begin{equation}
c^{<t>}=\tanh{(W_h[\Gamma_r*h^{<t-1>},x^{<t>}]+b_h)}
\end{equation}

\begin{equation}
h^{<t>}=\Gamma_u*c^{<t>}+(1-\Gamma_u)*h^{<t-1>}
\end{equation}

In the next cell, please implement the forward method for a GRU cell by
computing the update \texttt{u} and relevance \texttt{r} gates, and the
candidate hidden state \texttt{c}.

    \begin{Verbatim}[commandchars=\\\{\}]
{\color{incolor}In [{\color{incolor}5}]:} \PY{k}{def} \PY{n+nf}{forward\PYZus{}GRU}\PY{p}{(}\PY{n}{inputs}\PY{p}{,} \PY{n}{weights}\PY{p}{)}\PY{p}{:} \PY{c+c1}{\PYZsh{} Forward propagation for a single GRU cell}
            \PY{n}{x}\PY{p}{,} \PY{n}{h\PYZus{}t} \PY{o}{=} \PY{n}{inputs}
        
            \PY{c+c1}{\PYZsh{} weights.}
            \PY{n}{wu}\PY{p}{,} \PY{n}{wr}\PY{p}{,} \PY{n}{wc}\PY{p}{,} \PY{n}{bu}\PY{p}{,} \PY{n}{br}\PY{p}{,} \PY{n}{bc} \PY{o}{=} \PY{n}{weights}
        
            \PY{c+c1}{\PYZsh{} Update gate}
            \PY{c+c1}{\PYZsh{}\PYZsh{}\PYZsh{} START CODE HERE (1\PYZhy{}2 lINES) \PYZsh{}\PYZsh{}\PYZsh{}}
            \PY{n}{u} \PY{o}{=} \PY{n}{np}\PY{o}{.}\PY{n}{dot}\PY{p}{(}\PY{n}{wu}\PY{p}{,} \PY{n}{np}\PY{o}{.}\PY{n}{concatenate}\PY{p}{(}\PY{p}{[}\PY{n}{h\PYZus{}t}\PY{p}{,} \PY{n}{x}\PY{p}{]}\PY{p}{)}\PY{p}{)} \PY{o}{+} \PY{n}{bu}
            \PY{n}{u} \PY{o}{=} \PY{n}{sigmoid}\PY{p}{(}\PY{n}{u}\PY{p}{)}
            \PY{c+c1}{\PYZsh{}\PYZsh{}\PYZsh{} END CODE HERE \PYZsh{}\PYZsh{}\PYZsh{}}
            
            \PY{c+c1}{\PYZsh{} Relevance gate}
            \PY{c+c1}{\PYZsh{}\PYZsh{}\PYZsh{} START CODE HERE (1\PYZhy{}2 lINES) \PYZsh{}\PYZsh{}\PYZsh{}}
            \PY{n}{r} \PY{o}{=} \PY{n}{np}\PY{o}{.}\PY{n}{dot}\PY{p}{(}\PY{n}{wr}\PY{p}{,} \PY{n}{np}\PY{o}{.}\PY{n}{concatenate}\PY{p}{(}\PY{p}{[}\PY{n}{h\PYZus{}t}\PY{p}{,} \PY{n}{x}\PY{p}{]}\PY{p}{)}\PY{p}{)} \PY{o}{+} \PY{n}{br}
            \PY{n}{r} \PY{o}{=} \PY{n}{sigmoid}\PY{p}{(}\PY{n}{r}\PY{p}{)}
            \PY{c+c1}{\PYZsh{}\PYZsh{}\PYZsh{} END CODE HERE \PYZsh{}\PYZsh{}\PYZsh{}}
            
            \PY{c+c1}{\PYZsh{} Candidate hidden state }
            \PY{c+c1}{\PYZsh{}\PYZsh{}\PYZsh{} START CODE HERE (1\PYZhy{}2 lINES) \PYZsh{}\PYZsh{}\PYZsh{}}
            \PY{n}{c} \PY{o}{=} \PY{n}{np}\PY{o}{.}\PY{n}{dot}\PY{p}{(}\PY{n}{wc}\PY{p}{,} \PY{n}{np}\PY{o}{.}\PY{n}{concatenate}\PY{p}{(}\PY{p}{[}\PY{n}{r} \PY{o}{*} \PY{n}{h\PYZus{}t}\PY{p}{,} \PY{n}{x}\PY{p}{]}\PY{p}{)}\PY{p}{)} \PY{o}{+} \PY{n}{bc}
            \PY{n}{c} \PY{o}{=} \PY{n}{np}\PY{o}{.}\PY{n}{tanh}\PY{p}{(}\PY{n}{c}\PY{p}{)}
            \PY{c+c1}{\PYZsh{}\PYZsh{}\PYZsh{} END CODE HERE \PYZsh{}\PYZsh{}\PYZsh{}}
            
            \PY{c+c1}{\PYZsh{} New Hidden state h\PYZus{}t}
            \PY{n}{h\PYZus{}t} \PY{o}{=} \PY{n}{u}\PY{o}{*} \PY{n}{c} \PY{o}{+} \PY{p}{(}\PY{l+m+mi}{1} \PY{o}{\PYZhy{}} \PY{n}{u}\PY{p}{)}\PY{o}{*} \PY{n}{h\PYZus{}t}
            \PY{k}{return} \PY{n}{h\PYZus{}t}\PY{p}{,} \PY{n}{h\PYZus{}t}
\end{Verbatim}

    Run the following cell to check your implementation.

    \begin{Verbatim}[commandchars=\\\{\}]
{\color{incolor}In [{\color{incolor}6}]:} \PY{n}{forward\PYZus{}GRU}\PY{p}{(}\PY{p}{[}\PY{n}{X}\PY{p}{[}\PY{l+m+mi}{1}\PY{p}{]}\PY{p}{,}\PY{n}{h\PYZus{}0}\PY{p}{]}\PY{p}{,} \PY{n}{weights}\PY{p}{)}\PY{p}{[}\PY{l+m+mi}{0}\PY{p}{]}
\end{Verbatim}

\begin{Verbatim}[commandchars=\\\{\}]
{\color{outcolor}Out[{\color{outcolor}6}]:} array([[ 9.77779014e-01],
               [-9.97986240e-01],
               [-5.19958083e-01],
               [-9.99999886e-01],
               [-9.99707004e-01],
               [-3.02197037e-04],
               [-9.58733503e-01],
               [ 2.10804828e-02],
               [ 9.77365398e-05],
               [ 9.99833090e-01],
               [ 1.63200940e-08],
               [ 8.51874303e-01],
               [ 5.21399924e-02],
               [ 2.15495959e-02],
               [ 9.99878828e-01],
               [ 9.77165472e-01]])
\end{Verbatim}
            
    Expected output:

    \hypertarget{part-2-implementation-of-the-scan-function}{%
\section{\texorpdfstring{Part 2: Implementation of the \texttt{scan}
function}{Part 2: Implementation of the scan function}}\label{part-2-implementation-of-the-scan-function}}

    In the lectures you saw how the \texttt{scan} function is used for
forward propagation in RNNs. It takes as inputs:

\begin{itemize}
\tightlist
\item
  \texttt{fn} : the function to be called recurrently
  (i.e.~\texttt{forward\_GRU})
\item
  \texttt{elems} : the list of inputs for each time step (\texttt{X})
\item
  \texttt{weights} : the parameters needed to compute \texttt{fn}
\item
  \texttt{h\_0} : the initial hidden state
\end{itemize}

\texttt{scan} goes through all the elements \texttt{x} in
\texttt{elems}, calls the function \texttt{fn} with arguments
({[}\texttt{x}, \texttt{h\_t}{]},\texttt{weights}), stores the computed
hidden state \texttt{h\_t} and appends the result to a list \texttt{ys}.
Complete the following cell by calling \texttt{fn} with arguments
({[}\texttt{x}, \texttt{h\_t}{]},\texttt{weights}).

    \begin{Verbatim}[commandchars=\\\{\}]
{\color{incolor}In [{\color{incolor}7}]:} \PY{k}{def} \PY{n+nf}{scan}\PY{p}{(}\PY{n}{fn}\PY{p}{,} \PY{n}{elems}\PY{p}{,} \PY{n}{weights}\PY{p}{,} \PY{n}{h\PYZus{}0}\PY{o}{=}\PY{k+kc}{None}\PY{p}{)}\PY{p}{:} \PY{c+c1}{\PYZsh{} Forward propagation for RNNs}
            \PY{n}{h\PYZus{}t} \PY{o}{=} \PY{n}{h\PYZus{}0}
            \PY{n}{ys} \PY{o}{=} \PY{p}{[}\PY{p}{]}
            \PY{k}{for} \PY{n}{x} \PY{o+ow}{in} \PY{n}{elems}\PY{p}{:}
                \PY{c+c1}{\PYZsh{}\PYZsh{}\PYZsh{} START CODE HERE (1 lINE) \PYZsh{}\PYZsh{}\PYZsh{}}
                \PY{n}{y}\PY{p}{,} \PY{n}{h\PYZus{}t} \PY{o}{=} \PY{n}{fn}\PY{p}{(}\PY{p}{[}\PY{n}{x}\PY{p}{,} \PY{n}{h\PYZus{}t}\PY{p}{]}\PY{p}{,} \PY{n}{weights}\PY{p}{)}
                \PY{c+c1}{\PYZsh{}\PYZsh{}\PYZsh{} END CODE HERE \PYZsh{}\PYZsh{}\PYZsh{}}
                \PY{n}{ys}\PY{o}{.}\PY{n}{append}\PY{p}{(}\PY{n}{y}\PY{p}{)}
            \PY{k}{return} \PY{n}{ys}\PY{p}{,} \PY{n}{h\PYZus{}t}
\end{Verbatim}

    \hypertarget{part-3-comparison-between-vanilla-rnns-and-grus}{%
\section{Part 3: Comparison between vanilla RNNs and
GRUs}\label{part-3-comparison-between-vanilla-rnns-and-grus}}

    You have already seen how forward propagation is computed for vanilla
RNNs and GRUs. As a quick recap, you need to have a forward method for
the recurrent cell and a function like \texttt{scan} to go through all
the elements from a sequence using a forward method. You saw that GRUs
performed more computations than vanilla RNNs, and you can check that
they have 3 times more parameters. In the next two cells, we compute
forward propagation for a sequence with 256 time steps (\texttt{T}) for
an RNN and a GRU with the same hidden state \texttt{h\_t} size
(\texttt{h\_dim}=16).

    \begin{Verbatim}[commandchars=\\\{\}]
{\color{incolor}In [{\color{incolor}8}]:} \PY{c+c1}{\PYZsh{} vanilla RNNs}
        \PY{n}{tic} \PY{o}{=} \PY{n}{perf\PYZus{}counter}\PY{p}{(}\PY{p}{)}
        \PY{n}{ys}\PY{p}{,} \PY{n}{h\PYZus{}T} \PY{o}{=} \PY{n}{scan}\PY{p}{(}\PY{n}{forward\PYZus{}V\PYZus{}RNN}\PY{p}{,} \PY{n}{X}\PY{p}{,} \PY{n}{weights}\PY{p}{,} \PY{n}{h\PYZus{}0}\PY{p}{)}
        \PY{n}{toc} \PY{o}{=} \PY{n}{perf\PYZus{}counter}\PY{p}{(}\PY{p}{)}
        \PY{n}{RNN\PYZus{}time}\PY{o}{=}\PY{p}{(}\PY{n}{toc}\PY{o}{\PYZhy{}}\PY{n}{tic}\PY{p}{)}\PY{o}{*}\PY{l+m+mi}{1000}
        \PY{n+nb}{print} \PY{p}{(}\PY{n}{f}\PY{l+s+s2}{\PYZdq{}}\PY{l+s+s2}{It took }\PY{l+s+si}{\PYZob{}RNN\PYZus{}time:.2f\PYZcb{}}\PY{l+s+s2}{ms to run the forward method for the vanilla RNN.}\PY{l+s+s2}{\PYZdq{}}\PY{p}{)}
\end{Verbatim}

    \begin{Verbatim}[commandchars=\\\{\}]
It took 79.53ms to run the forward method for the vanilla RNN.

    \end{Verbatim}

    \begin{Verbatim}[commandchars=\\\{\}]
{\color{incolor}In [{\color{incolor}9}]:} \PY{c+c1}{\PYZsh{} GRUs}
        \PY{n}{tic} \PY{o}{=} \PY{n}{perf\PYZus{}counter}\PY{p}{(}\PY{p}{)}
        \PY{n}{ys}\PY{p}{,} \PY{n}{h\PYZus{}T} \PY{o}{=} \PY{n}{scan}\PY{p}{(}\PY{n}{forward\PYZus{}GRU}\PY{p}{,} \PY{n}{X}\PY{p}{,} \PY{n}{weights}\PY{p}{,} \PY{n}{h\PYZus{}0}\PY{p}{)}
        \PY{n}{toc} \PY{o}{=} \PY{n}{perf\PYZus{}counter}\PY{p}{(}\PY{p}{)}
        \PY{n}{GRU\PYZus{}time}\PY{o}{=}\PY{p}{(}\PY{n}{toc}\PY{o}{\PYZhy{}}\PY{n}{tic}\PY{p}{)}\PY{o}{*}\PY{l+m+mi}{1000}
        \PY{n+nb}{print} \PY{p}{(}\PY{n}{f}\PY{l+s+s2}{\PYZdq{}}\PY{l+s+s2}{It took }\PY{l+s+si}{\PYZob{}GRU\PYZus{}time:.2f\PYZcb{}}\PY{l+s+s2}{ms to run the forward method for the GRU.}\PY{l+s+s2}{\PYZdq{}}\PY{p}{)}
\end{Verbatim}

    \begin{Verbatim}[commandchars=\\\{\}]
It took 8.25ms to run the forward method for the GRU.

    \end{Verbatim}

    As you were told in the lectures, GRUs take more time to compute
(However, sometimes, although a rare occurrence, Vanilla RNNs take more
time. Can you figure out what might cause this ?). This means that
training and prediction would take more time for a GRU than for a
vanilla RNN. However, GRUs allow you to propagate relevant information
even for long sequences, so when selecting an architecture for NLP you
should assess the tradeoff between computational time and performance.

    Congratulations! Now you know how the forward method is implemented for
vanilla RNNs and GRUs, and you know how the scan function provides an
abstraction for forward propagation in RNNs.


    % Add a bibliography block to the postdoc
    
    
    
    \end{document}
