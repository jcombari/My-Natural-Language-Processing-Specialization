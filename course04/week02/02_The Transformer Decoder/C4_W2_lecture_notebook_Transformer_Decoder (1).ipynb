\documentclass[11pt]{article}

    \usepackage[breakable]{tcolorbox}
    \usepackage{parskip} % Stop auto-indenting (to mimic markdown behaviour)
    
    \usepackage{iftex}
    \ifPDFTeX
    	\usepackage[T1]{fontenc}
    	\usepackage{mathpazo}
    \else
    	\usepackage{fontspec}
    \fi

    % Basic figure setup, for now with no caption control since it's done
    % automatically by Pandoc (which extracts ![](path) syntax from Markdown).
    \usepackage{graphicx}
    % Maintain compatibility with old templates. Remove in nbconvert 6.0
    \let\Oldincludegraphics\includegraphics
    % Ensure that by default, figures have no caption (until we provide a
    % proper Figure object with a Caption API and a way to capture that
    % in the conversion process - todo).
    \usepackage{caption}
    \DeclareCaptionFormat{nocaption}{}
    \captionsetup{format=nocaption,aboveskip=0pt,belowskip=0pt}

    \usepackage[Export]{adjustbox} % Used to constrain images to a maximum size
    \adjustboxset{max size={0.9\linewidth}{0.9\paperheight}}
    \usepackage{float}
    \floatplacement{figure}{H} % forces figures to be placed at the correct location
    \usepackage{xcolor} % Allow colors to be defined
    \usepackage{enumerate} % Needed for markdown enumerations to work
    \usepackage{geometry} % Used to adjust the document margins
    \usepackage{amsmath} % Equations
    \usepackage{amssymb} % Equations
    \usepackage{textcomp} % defines textquotesingle
    % Hack from http://tex.stackexchange.com/a/47451/13684:
    \AtBeginDocument{%
        \def\PYZsq{\textquotesingle}% Upright quotes in Pygmentized code
    }
    \usepackage{upquote} % Upright quotes for verbatim code
    \usepackage{eurosym} % defines \euro
    \usepackage[mathletters]{ucs} % Extended unicode (utf-8) support
    \usepackage{fancyvrb} % verbatim replacement that allows latex
    \usepackage{grffile} % extends the file name processing of package graphics 
                         % to support a larger range
    \makeatletter % fix for grffile with XeLaTeX
    \def\Gread@@xetex#1{%
      \IfFileExists{"\Gin@base".bb}%
      {\Gread@eps{\Gin@base.bb}}%
      {\Gread@@xetex@aux#1}%
    }
    \makeatother

    % The hyperref package gives us a pdf with properly built
    % internal navigation ('pdf bookmarks' for the table of contents,
    % internal cross-reference links, web links for URLs, etc.)
    \usepackage{hyperref}
    % The default LaTeX title has an obnoxious amount of whitespace. By default,
    % titling removes some of it. It also provides customization options.
    \usepackage{titling}
    \usepackage{longtable} % longtable support required by pandoc >1.10
    \usepackage{booktabs}  % table support for pandoc > 1.12.2
    \usepackage[inline]{enumitem} % IRkernel/repr support (it uses the enumerate* environment)
    \usepackage[normalem]{ulem} % ulem is needed to support strikethroughs (\sout)
                                % normalem makes italics be italics, not underlines
    \usepackage{mathrsfs}
    

    
    % Colors for the hyperref package
    \definecolor{urlcolor}{rgb}{0,.145,.698}
    \definecolor{linkcolor}{rgb}{.71,0.21,0.01}
    \definecolor{citecolor}{rgb}{.12,.54,.11}

    % ANSI colors
    \definecolor{ansi-black}{HTML}{3E424D}
    \definecolor{ansi-black-intense}{HTML}{282C36}
    \definecolor{ansi-red}{HTML}{E75C58}
    \definecolor{ansi-red-intense}{HTML}{B22B31}
    \definecolor{ansi-green}{HTML}{00A250}
    \definecolor{ansi-green-intense}{HTML}{007427}
    \definecolor{ansi-yellow}{HTML}{DDB62B}
    \definecolor{ansi-yellow-intense}{HTML}{B27D12}
    \definecolor{ansi-blue}{HTML}{208FFB}
    \definecolor{ansi-blue-intense}{HTML}{0065CA}
    \definecolor{ansi-magenta}{HTML}{D160C4}
    \definecolor{ansi-magenta-intense}{HTML}{A03196}
    \definecolor{ansi-cyan}{HTML}{60C6C8}
    \definecolor{ansi-cyan-intense}{HTML}{258F8F}
    \definecolor{ansi-white}{HTML}{C5C1B4}
    \definecolor{ansi-white-intense}{HTML}{A1A6B2}
    \definecolor{ansi-default-inverse-fg}{HTML}{FFFFFF}
    \definecolor{ansi-default-inverse-bg}{HTML}{000000}

    % commands and environments needed by pandoc snippets
    % extracted from the output of `pandoc -s`
    \providecommand{\tightlist}{%
      \setlength{\itemsep}{0pt}\setlength{\parskip}{0pt}}
    \DefineVerbatimEnvironment{Highlighting}{Verbatim}{commandchars=\\\{\}}
    % Add ',fontsize=\small' for more characters per line
    \newenvironment{Shaded}{}{}
    \newcommand{\KeywordTok}[1]{\textcolor[rgb]{0.00,0.44,0.13}{\textbf{{#1}}}}
    \newcommand{\DataTypeTok}[1]{\textcolor[rgb]{0.56,0.13,0.00}{{#1}}}
    \newcommand{\DecValTok}[1]{\textcolor[rgb]{0.25,0.63,0.44}{{#1}}}
    \newcommand{\BaseNTok}[1]{\textcolor[rgb]{0.25,0.63,0.44}{{#1}}}
    \newcommand{\FloatTok}[1]{\textcolor[rgb]{0.25,0.63,0.44}{{#1}}}
    \newcommand{\CharTok}[1]{\textcolor[rgb]{0.25,0.44,0.63}{{#1}}}
    \newcommand{\StringTok}[1]{\textcolor[rgb]{0.25,0.44,0.63}{{#1}}}
    \newcommand{\CommentTok}[1]{\textcolor[rgb]{0.38,0.63,0.69}{\textit{{#1}}}}
    \newcommand{\OtherTok}[1]{\textcolor[rgb]{0.00,0.44,0.13}{{#1}}}
    \newcommand{\AlertTok}[1]{\textcolor[rgb]{1.00,0.00,0.00}{\textbf{{#1}}}}
    \newcommand{\FunctionTok}[1]{\textcolor[rgb]{0.02,0.16,0.49}{{#1}}}
    \newcommand{\RegionMarkerTok}[1]{{#1}}
    \newcommand{\ErrorTok}[1]{\textcolor[rgb]{1.00,0.00,0.00}{\textbf{{#1}}}}
    \newcommand{\NormalTok}[1]{{#1}}
    
    % Additional commands for more recent versions of Pandoc
    \newcommand{\ConstantTok}[1]{\textcolor[rgb]{0.53,0.00,0.00}{{#1}}}
    \newcommand{\SpecialCharTok}[1]{\textcolor[rgb]{0.25,0.44,0.63}{{#1}}}
    \newcommand{\VerbatimStringTok}[1]{\textcolor[rgb]{0.25,0.44,0.63}{{#1}}}
    \newcommand{\SpecialStringTok}[1]{\textcolor[rgb]{0.73,0.40,0.53}{{#1}}}
    \newcommand{\ImportTok}[1]{{#1}}
    \newcommand{\DocumentationTok}[1]{\textcolor[rgb]{0.73,0.13,0.13}{\textit{{#1}}}}
    \newcommand{\AnnotationTok}[1]{\textcolor[rgb]{0.38,0.63,0.69}{\textbf{\textit{{#1}}}}}
    \newcommand{\CommentVarTok}[1]{\textcolor[rgb]{0.38,0.63,0.69}{\textbf{\textit{{#1}}}}}
    \newcommand{\VariableTok}[1]{\textcolor[rgb]{0.10,0.09,0.49}{{#1}}}
    \newcommand{\ControlFlowTok}[1]{\textcolor[rgb]{0.00,0.44,0.13}{\textbf{{#1}}}}
    \newcommand{\OperatorTok}[1]{\textcolor[rgb]{0.40,0.40,0.40}{{#1}}}
    \newcommand{\BuiltInTok}[1]{{#1}}
    \newcommand{\ExtensionTok}[1]{{#1}}
    \newcommand{\PreprocessorTok}[1]{\textcolor[rgb]{0.74,0.48,0.00}{{#1}}}
    \newcommand{\AttributeTok}[1]{\textcolor[rgb]{0.49,0.56,0.16}{{#1}}}
    \newcommand{\InformationTok}[1]{\textcolor[rgb]{0.38,0.63,0.69}{\textbf{\textit{{#1}}}}}
    \newcommand{\WarningTok}[1]{\textcolor[rgb]{0.38,0.63,0.69}{\textbf{\textit{{#1}}}}}
    
    
    % Define a nice break command that doesn't care if a line doesn't already
    % exist.
    \def\br{\hspace*{\fill} \\* }
    % Math Jax compatibility definitions
    \def\gt{>}
    \def\lt{<}
    \let\Oldtex\TeX
    \let\Oldlatex\LaTeX
    \renewcommand{\TeX}{\textrm{\Oldtex}}
    \renewcommand{\LaTeX}{\textrm{\Oldlatex}}
    % Document parameters
    % Document title
    \title{C4\_W2\_lecture\_notebook\_Transformer\_Decoder}
    
    
    
    
    
% Pygments definitions
\makeatletter
\def\PY@reset{\let\PY@it=\relax \let\PY@bf=\relax%
    \let\PY@ul=\relax \let\PY@tc=\relax%
    \let\PY@bc=\relax \let\PY@ff=\relax}
\def\PY@tok#1{\csname PY@tok@#1\endcsname}
\def\PY@toks#1+{\ifx\relax#1\empty\else%
    \PY@tok{#1}\expandafter\PY@toks\fi}
\def\PY@do#1{\PY@bc{\PY@tc{\PY@ul{%
    \PY@it{\PY@bf{\PY@ff{#1}}}}}}}
\def\PY#1#2{\PY@reset\PY@toks#1+\relax+\PY@do{#2}}

\expandafter\def\csname PY@tok@w\endcsname{\def\PY@tc##1{\textcolor[rgb]{0.73,0.73,0.73}{##1}}}
\expandafter\def\csname PY@tok@c\endcsname{\let\PY@it=\textit\def\PY@tc##1{\textcolor[rgb]{0.25,0.50,0.50}{##1}}}
\expandafter\def\csname PY@tok@cp\endcsname{\def\PY@tc##1{\textcolor[rgb]{0.74,0.48,0.00}{##1}}}
\expandafter\def\csname PY@tok@k\endcsname{\let\PY@bf=\textbf\def\PY@tc##1{\textcolor[rgb]{0.00,0.50,0.00}{##1}}}
\expandafter\def\csname PY@tok@kp\endcsname{\def\PY@tc##1{\textcolor[rgb]{0.00,0.50,0.00}{##1}}}
\expandafter\def\csname PY@tok@kt\endcsname{\def\PY@tc##1{\textcolor[rgb]{0.69,0.00,0.25}{##1}}}
\expandafter\def\csname PY@tok@o\endcsname{\def\PY@tc##1{\textcolor[rgb]{0.40,0.40,0.40}{##1}}}
\expandafter\def\csname PY@tok@ow\endcsname{\let\PY@bf=\textbf\def\PY@tc##1{\textcolor[rgb]{0.67,0.13,1.00}{##1}}}
\expandafter\def\csname PY@tok@nb\endcsname{\def\PY@tc##1{\textcolor[rgb]{0.00,0.50,0.00}{##1}}}
\expandafter\def\csname PY@tok@nf\endcsname{\def\PY@tc##1{\textcolor[rgb]{0.00,0.00,1.00}{##1}}}
\expandafter\def\csname PY@tok@nc\endcsname{\let\PY@bf=\textbf\def\PY@tc##1{\textcolor[rgb]{0.00,0.00,1.00}{##1}}}
\expandafter\def\csname PY@tok@nn\endcsname{\let\PY@bf=\textbf\def\PY@tc##1{\textcolor[rgb]{0.00,0.00,1.00}{##1}}}
\expandafter\def\csname PY@tok@ne\endcsname{\let\PY@bf=\textbf\def\PY@tc##1{\textcolor[rgb]{0.82,0.25,0.23}{##1}}}
\expandafter\def\csname PY@tok@nv\endcsname{\def\PY@tc##1{\textcolor[rgb]{0.10,0.09,0.49}{##1}}}
\expandafter\def\csname PY@tok@no\endcsname{\def\PY@tc##1{\textcolor[rgb]{0.53,0.00,0.00}{##1}}}
\expandafter\def\csname PY@tok@nl\endcsname{\def\PY@tc##1{\textcolor[rgb]{0.63,0.63,0.00}{##1}}}
\expandafter\def\csname PY@tok@ni\endcsname{\let\PY@bf=\textbf\def\PY@tc##1{\textcolor[rgb]{0.60,0.60,0.60}{##1}}}
\expandafter\def\csname PY@tok@na\endcsname{\def\PY@tc##1{\textcolor[rgb]{0.49,0.56,0.16}{##1}}}
\expandafter\def\csname PY@tok@nt\endcsname{\let\PY@bf=\textbf\def\PY@tc##1{\textcolor[rgb]{0.00,0.50,0.00}{##1}}}
\expandafter\def\csname PY@tok@nd\endcsname{\def\PY@tc##1{\textcolor[rgb]{0.67,0.13,1.00}{##1}}}
\expandafter\def\csname PY@tok@s\endcsname{\def\PY@tc##1{\textcolor[rgb]{0.73,0.13,0.13}{##1}}}
\expandafter\def\csname PY@tok@sd\endcsname{\let\PY@it=\textit\def\PY@tc##1{\textcolor[rgb]{0.73,0.13,0.13}{##1}}}
\expandafter\def\csname PY@tok@si\endcsname{\let\PY@bf=\textbf\def\PY@tc##1{\textcolor[rgb]{0.73,0.40,0.53}{##1}}}
\expandafter\def\csname PY@tok@se\endcsname{\let\PY@bf=\textbf\def\PY@tc##1{\textcolor[rgb]{0.73,0.40,0.13}{##1}}}
\expandafter\def\csname PY@tok@sr\endcsname{\def\PY@tc##1{\textcolor[rgb]{0.73,0.40,0.53}{##1}}}
\expandafter\def\csname PY@tok@ss\endcsname{\def\PY@tc##1{\textcolor[rgb]{0.10,0.09,0.49}{##1}}}
\expandafter\def\csname PY@tok@sx\endcsname{\def\PY@tc##1{\textcolor[rgb]{0.00,0.50,0.00}{##1}}}
\expandafter\def\csname PY@tok@m\endcsname{\def\PY@tc##1{\textcolor[rgb]{0.40,0.40,0.40}{##1}}}
\expandafter\def\csname PY@tok@gh\endcsname{\let\PY@bf=\textbf\def\PY@tc##1{\textcolor[rgb]{0.00,0.00,0.50}{##1}}}
\expandafter\def\csname PY@tok@gu\endcsname{\let\PY@bf=\textbf\def\PY@tc##1{\textcolor[rgb]{0.50,0.00,0.50}{##1}}}
\expandafter\def\csname PY@tok@gd\endcsname{\def\PY@tc##1{\textcolor[rgb]{0.63,0.00,0.00}{##1}}}
\expandafter\def\csname PY@tok@gi\endcsname{\def\PY@tc##1{\textcolor[rgb]{0.00,0.63,0.00}{##1}}}
\expandafter\def\csname PY@tok@gr\endcsname{\def\PY@tc##1{\textcolor[rgb]{1.00,0.00,0.00}{##1}}}
\expandafter\def\csname PY@tok@ge\endcsname{\let\PY@it=\textit}
\expandafter\def\csname PY@tok@gs\endcsname{\let\PY@bf=\textbf}
\expandafter\def\csname PY@tok@gp\endcsname{\let\PY@bf=\textbf\def\PY@tc##1{\textcolor[rgb]{0.00,0.00,0.50}{##1}}}
\expandafter\def\csname PY@tok@go\endcsname{\def\PY@tc##1{\textcolor[rgb]{0.53,0.53,0.53}{##1}}}
\expandafter\def\csname PY@tok@gt\endcsname{\def\PY@tc##1{\textcolor[rgb]{0.00,0.27,0.87}{##1}}}
\expandafter\def\csname PY@tok@err\endcsname{\def\PY@bc##1{\setlength{\fboxsep}{0pt}\fcolorbox[rgb]{1.00,0.00,0.00}{1,1,1}{\strut ##1}}}
\expandafter\def\csname PY@tok@kc\endcsname{\let\PY@bf=\textbf\def\PY@tc##1{\textcolor[rgb]{0.00,0.50,0.00}{##1}}}
\expandafter\def\csname PY@tok@kd\endcsname{\let\PY@bf=\textbf\def\PY@tc##1{\textcolor[rgb]{0.00,0.50,0.00}{##1}}}
\expandafter\def\csname PY@tok@kn\endcsname{\let\PY@bf=\textbf\def\PY@tc##1{\textcolor[rgb]{0.00,0.50,0.00}{##1}}}
\expandafter\def\csname PY@tok@kr\endcsname{\let\PY@bf=\textbf\def\PY@tc##1{\textcolor[rgb]{0.00,0.50,0.00}{##1}}}
\expandafter\def\csname PY@tok@bp\endcsname{\def\PY@tc##1{\textcolor[rgb]{0.00,0.50,0.00}{##1}}}
\expandafter\def\csname PY@tok@fm\endcsname{\def\PY@tc##1{\textcolor[rgb]{0.00,0.00,1.00}{##1}}}
\expandafter\def\csname PY@tok@vc\endcsname{\def\PY@tc##1{\textcolor[rgb]{0.10,0.09,0.49}{##1}}}
\expandafter\def\csname PY@tok@vg\endcsname{\def\PY@tc##1{\textcolor[rgb]{0.10,0.09,0.49}{##1}}}
\expandafter\def\csname PY@tok@vi\endcsname{\def\PY@tc##1{\textcolor[rgb]{0.10,0.09,0.49}{##1}}}
\expandafter\def\csname PY@tok@vm\endcsname{\def\PY@tc##1{\textcolor[rgb]{0.10,0.09,0.49}{##1}}}
\expandafter\def\csname PY@tok@sa\endcsname{\def\PY@tc##1{\textcolor[rgb]{0.73,0.13,0.13}{##1}}}
\expandafter\def\csname PY@tok@sb\endcsname{\def\PY@tc##1{\textcolor[rgb]{0.73,0.13,0.13}{##1}}}
\expandafter\def\csname PY@tok@sc\endcsname{\def\PY@tc##1{\textcolor[rgb]{0.73,0.13,0.13}{##1}}}
\expandafter\def\csname PY@tok@dl\endcsname{\def\PY@tc##1{\textcolor[rgb]{0.73,0.13,0.13}{##1}}}
\expandafter\def\csname PY@tok@s2\endcsname{\def\PY@tc##1{\textcolor[rgb]{0.73,0.13,0.13}{##1}}}
\expandafter\def\csname PY@tok@sh\endcsname{\def\PY@tc##1{\textcolor[rgb]{0.73,0.13,0.13}{##1}}}
\expandafter\def\csname PY@tok@s1\endcsname{\def\PY@tc##1{\textcolor[rgb]{0.73,0.13,0.13}{##1}}}
\expandafter\def\csname PY@tok@mb\endcsname{\def\PY@tc##1{\textcolor[rgb]{0.40,0.40,0.40}{##1}}}
\expandafter\def\csname PY@tok@mf\endcsname{\def\PY@tc##1{\textcolor[rgb]{0.40,0.40,0.40}{##1}}}
\expandafter\def\csname PY@tok@mh\endcsname{\def\PY@tc##1{\textcolor[rgb]{0.40,0.40,0.40}{##1}}}
\expandafter\def\csname PY@tok@mi\endcsname{\def\PY@tc##1{\textcolor[rgb]{0.40,0.40,0.40}{##1}}}
\expandafter\def\csname PY@tok@il\endcsname{\def\PY@tc##1{\textcolor[rgb]{0.40,0.40,0.40}{##1}}}
\expandafter\def\csname PY@tok@mo\endcsname{\def\PY@tc##1{\textcolor[rgb]{0.40,0.40,0.40}{##1}}}
\expandafter\def\csname PY@tok@ch\endcsname{\let\PY@it=\textit\def\PY@tc##1{\textcolor[rgb]{0.25,0.50,0.50}{##1}}}
\expandafter\def\csname PY@tok@cm\endcsname{\let\PY@it=\textit\def\PY@tc##1{\textcolor[rgb]{0.25,0.50,0.50}{##1}}}
\expandafter\def\csname PY@tok@cpf\endcsname{\let\PY@it=\textit\def\PY@tc##1{\textcolor[rgb]{0.25,0.50,0.50}{##1}}}
\expandafter\def\csname PY@tok@c1\endcsname{\let\PY@it=\textit\def\PY@tc##1{\textcolor[rgb]{0.25,0.50,0.50}{##1}}}
\expandafter\def\csname PY@tok@cs\endcsname{\let\PY@it=\textit\def\PY@tc##1{\textcolor[rgb]{0.25,0.50,0.50}{##1}}}

\def\PYZbs{\char`\\}
\def\PYZus{\char`\_}
\def\PYZob{\char`\{}
\def\PYZcb{\char`\}}
\def\PYZca{\char`\^}
\def\PYZam{\char`\&}
\def\PYZlt{\char`\<}
\def\PYZgt{\char`\>}
\def\PYZsh{\char`\#}
\def\PYZpc{\char`\%}
\def\PYZdl{\char`\$}
\def\PYZhy{\char`\-}
\def\PYZsq{\char`\'}
\def\PYZdq{\char`\"}
\def\PYZti{\char`\~}
% for compatibility with earlier versions
\def\PYZat{@}
\def\PYZlb{[}
\def\PYZrb{]}
\makeatother


    % For linebreaks inside Verbatim environment from package fancyvrb. 
    \makeatletter
        \newbox\Wrappedcontinuationbox 
        \newbox\Wrappedvisiblespacebox 
        \newcommand*\Wrappedvisiblespace {\textcolor{red}{\textvisiblespace}} 
        \newcommand*\Wrappedcontinuationsymbol {\textcolor{red}{\llap{\tiny$\m@th\hookrightarrow$}}} 
        \newcommand*\Wrappedcontinuationindent {3ex } 
        \newcommand*\Wrappedafterbreak {\kern\Wrappedcontinuationindent\copy\Wrappedcontinuationbox} 
        % Take advantage of the already applied Pygments mark-up to insert 
        % potential linebreaks for TeX processing. 
        %        {, <, #, %, $, ' and ": go to next line. 
        %        _, }, ^, &, >, - and ~: stay at end of broken line. 
        % Use of \textquotesingle for straight quote. 
        \newcommand*\Wrappedbreaksatspecials {% 
            \def\PYGZus{\discretionary{\char`\_}{\Wrappedafterbreak}{\char`\_}}% 
            \def\PYGZob{\discretionary{}{\Wrappedafterbreak\char`\{}{\char`\{}}% 
            \def\PYGZcb{\discretionary{\char`\}}{\Wrappedafterbreak}{\char`\}}}% 
            \def\PYGZca{\discretionary{\char`\^}{\Wrappedafterbreak}{\char`\^}}% 
            \def\PYGZam{\discretionary{\char`\&}{\Wrappedafterbreak}{\char`\&}}% 
            \def\PYGZlt{\discretionary{}{\Wrappedafterbreak\char`\<}{\char`\<}}% 
            \def\PYGZgt{\discretionary{\char`\>}{\Wrappedafterbreak}{\char`\>}}% 
            \def\PYGZsh{\discretionary{}{\Wrappedafterbreak\char`\#}{\char`\#}}% 
            \def\PYGZpc{\discretionary{}{\Wrappedafterbreak\char`\%}{\char`\%}}% 
            \def\PYGZdl{\discretionary{}{\Wrappedafterbreak\char`\$}{\char`\$}}% 
            \def\PYGZhy{\discretionary{\char`\-}{\Wrappedafterbreak}{\char`\-}}% 
            \def\PYGZsq{\discretionary{}{\Wrappedafterbreak\textquotesingle}{\textquotesingle}}% 
            \def\PYGZdq{\discretionary{}{\Wrappedafterbreak\char`\"}{\char`\"}}% 
            \def\PYGZti{\discretionary{\char`\~}{\Wrappedafterbreak}{\char`\~}}% 
        } 
        % Some characters . , ; ? ! / are not pygmentized. 
        % This macro makes them "active" and they will insert potential linebreaks 
        \newcommand*\Wrappedbreaksatpunct {% 
            \lccode`\~`\.\lowercase{\def~}{\discretionary{\hbox{\char`\.}}{\Wrappedafterbreak}{\hbox{\char`\.}}}% 
            \lccode`\~`\,\lowercase{\def~}{\discretionary{\hbox{\char`\,}}{\Wrappedafterbreak}{\hbox{\char`\,}}}% 
            \lccode`\~`\;\lowercase{\def~}{\discretionary{\hbox{\char`\;}}{\Wrappedafterbreak}{\hbox{\char`\;}}}% 
            \lccode`\~`\:\lowercase{\def~}{\discretionary{\hbox{\char`\:}}{\Wrappedafterbreak}{\hbox{\char`\:}}}% 
            \lccode`\~`\?\lowercase{\def~}{\discretionary{\hbox{\char`\?}}{\Wrappedafterbreak}{\hbox{\char`\?}}}% 
            \lccode`\~`\!\lowercase{\def~}{\discretionary{\hbox{\char`\!}}{\Wrappedafterbreak}{\hbox{\char`\!}}}% 
            \lccode`\~`\/\lowercase{\def~}{\discretionary{\hbox{\char`\/}}{\Wrappedafterbreak}{\hbox{\char`\/}}}% 
            \catcode`\.\active
            \catcode`\,\active 
            \catcode`\;\active
            \catcode`\:\active
            \catcode`\?\active
            \catcode`\!\active
            \catcode`\/\active 
            \lccode`\~`\~ 	
        }
    \makeatother

    \let\OriginalVerbatim=\Verbatim
    \makeatletter
    \renewcommand{\Verbatim}[1][1]{%
        %\parskip\z@skip
        \sbox\Wrappedcontinuationbox {\Wrappedcontinuationsymbol}%
        \sbox\Wrappedvisiblespacebox {\FV@SetupFont\Wrappedvisiblespace}%
        \def\FancyVerbFormatLine ##1{\hsize\linewidth
            \vtop{\raggedright\hyphenpenalty\z@\exhyphenpenalty\z@
                \doublehyphendemerits\z@\finalhyphendemerits\z@
                \strut ##1\strut}%
        }%
        % If the linebreak is at a space, the latter will be displayed as visible
        % space at end of first line, and a continuation symbol starts next line.
        % Stretch/shrink are however usually zero for typewriter font.
        \def\FV@Space {%
            \nobreak\hskip\z@ plus\fontdimen3\font minus\fontdimen4\font
            \discretionary{\copy\Wrappedvisiblespacebox}{\Wrappedafterbreak}
            {\kern\fontdimen2\font}%
        }%
        
        % Allow breaks at special characters using \PYG... macros.
        \Wrappedbreaksatspecials
        % Breaks at punctuation characters . , ; ? ! and / need catcode=\active 	
        \OriginalVerbatim[#1,codes*=\Wrappedbreaksatpunct]%
    }
    \makeatother

    % Exact colors from NB
    \definecolor{incolor}{HTML}{303F9F}
    \definecolor{outcolor}{HTML}{D84315}
    \definecolor{cellborder}{HTML}{CFCFCF}
    \definecolor{cellbackground}{HTML}{F7F7F7}
    
    % prompt
    \makeatletter
    \newcommand{\boxspacing}{\kern\kvtcb@left@rule\kern\kvtcb@boxsep}
    \makeatother
    \newcommand{\prompt}[4]{
        \ttfamily\llap{{\color{#2}[#3]:\hspace{3pt}#4}}\vspace{-\baselineskip}
    }
    

    
    % Prevent overflowing lines due to hard-to-break entities
    \sloppy 
    % Setup hyperref package
    \hypersetup{
      breaklinks=true,  % so long urls are correctly broken across lines
      colorlinks=true,
      urlcolor=urlcolor,
      linkcolor=linkcolor,
      citecolor=citecolor,
      }
    % Slightly bigger margins than the latex defaults
    
    \geometry{verbose,tmargin=1in,bmargin=1in,lmargin=1in,rmargin=1in}
    
    

\begin{document}
    
    \maketitle
    
    

    
    \hypertarget{the-transformer-decoder-ungraded-lab-notebook}{%
\section{The Transformer Decoder: Ungraded Lab
Notebook}\label{the-transformer-decoder-ungraded-lab-notebook}}

In this notebook, you'll explore the transformer decoder and how to
implement it with Trax.

\hypertarget{background}{%
\subsection{Background}\label{background}}

In the last lecture notebook, you saw how to translate the mathematics
of attention into NumPy code. Here, you'll see how multi-head causal
attention fits into a GPT-2 transformer decoder, and how to build one
with Trax layers. In the assignment notebook, you'll implement causal
attention from scratch, but here, you'll exploit the handy-dandy
\texttt{tl.CausalAttention()} layer.

The schematic below illustrates the components and flow of a transformer
decoder. Note that while the algorithm diagram flows from the bottom to
the top, the overview and subsequent Trax layer codes are top-down.

    \hypertarget{imports}{%
\subsection{Imports}\label{imports}}

    \begin{tcolorbox}[breakable, size=fbox, boxrule=1pt, pad at break*=1mm,colback=cellbackground, colframe=cellborder]
\prompt{In}{incolor}{1}{\boxspacing}
\begin{Verbatim}[commandchars=\\\{\}]
\PY{k+kn}{import} \PY{n+nn}{sys}
\PY{k+kn}{import} \PY{n+nn}{os}

\PY{k+kn}{import} \PY{n+nn}{time}
\PY{k+kn}{import} \PY{n+nn}{numpy} \PY{k}{as} \PY{n+nn}{np}
\PY{k+kn}{import} \PY{n+nn}{gin}

\PY{k+kn}{import} \PY{n+nn}{textwrap}
\PY{n}{wrapper} \PY{o}{=} \PY{n}{textwrap}\PY{o}{.}\PY{n}{TextWrapper}\PY{p}{(}\PY{n}{width}\PY{o}{=}\PY{l+m+mi}{70}\PY{p}{)}

\PY{k+kn}{import} \PY{n+nn}{trax}
\PY{k+kn}{from} \PY{n+nn}{trax} \PY{k+kn}{import} \PY{n}{layers} \PY{k}{as} \PY{n}{tl}
\PY{k+kn}{from} \PY{n+nn}{trax}\PY{n+nn}{.}\PY{n+nn}{fastmath} \PY{k+kn}{import} \PY{n}{numpy} \PY{k}{as} \PY{n}{jnp}

\PY{c+c1}{\PYZsh{} to print the entire np array}
\PY{n}{np}\PY{o}{.}\PY{n}{set\PYZus{}printoptions}\PY{p}{(}\PY{n}{threshold}\PY{o}{=}\PY{n}{sys}\PY{o}{.}\PY{n}{maxsize}\PY{p}{)}
\end{Verbatim}
\end{tcolorbox}

    \begin{Verbatim}[commandchars=\\\{\}]
INFO:tensorflow:tokens\_length=568 inputs\_length=512 targets\_length=114
noise\_density=0.15 mean\_noise\_span\_length=3.0
    \end{Verbatim}

    \hypertarget{sentence-gets-embedded-add-positional-encoding}{%
\subsection{Sentence gets embedded, add positional
encoding}\label{sentence-gets-embedded-add-positional-encoding}}

Embed the words, then create vectors representing each word's position
in each sentence \(\in \{ 0, 1, 2, \ldots , K\}\) =
\texttt{range(max\_len)}, where \texttt{max\_len} = \(K+1\))

    \begin{tcolorbox}[breakable, size=fbox, boxrule=1pt, pad at break*=1mm,colback=cellbackground, colframe=cellborder]
\prompt{In}{incolor}{2}{\boxspacing}
\begin{Verbatim}[commandchars=\\\{\}]
\PY{k}{def} \PY{n+nf}{PositionalEncoder}\PY{p}{(}\PY{n}{vocab\PYZus{}size}\PY{p}{,} \PY{n}{d\PYZus{}model}\PY{p}{,} \PY{n}{dropout}\PY{p}{,} \PY{n}{max\PYZus{}len}\PY{p}{,} \PY{n}{mode}\PY{p}{)}\PY{p}{:}
    \PY{l+s+sd}{\PYZdq{}\PYZdq{}\PYZdq{}Returns a list of layers that: }
\PY{l+s+sd}{    1. takes a block of text as input, }
\PY{l+s+sd}{    2. embeds the words in that text, and }
\PY{l+s+sd}{    3. adds positional encoding, }
\PY{l+s+sd}{       i.e. associates a number in range(max\PYZus{}len) with }
\PY{l+s+sd}{       each word in each sentence of embedded input text }
\PY{l+s+sd}{    }
\PY{l+s+sd}{    The input is a list of tokenized blocks of text}
\PY{l+s+sd}{    }
\PY{l+s+sd}{    Args:}
\PY{l+s+sd}{        vocab\PYZus{}size (int): vocab size.}
\PY{l+s+sd}{        d\PYZus{}model (int):  depth of embedding.}
\PY{l+s+sd}{        dropout (float): dropout rate (how much to drop out).}
\PY{l+s+sd}{        max\PYZus{}len (int): maximum symbol length for positional encoding.}
\PY{l+s+sd}{        mode (str): \PYZsq{}train\PYZsq{} or \PYZsq{}eval\PYZsq{}.}
\PY{l+s+sd}{    \PYZdq{}\PYZdq{}\PYZdq{}}
    \PY{c+c1}{\PYZsh{} Embedding inputs and positional encoder}
    \PY{k}{return} \PY{p}{[} 
        \PY{c+c1}{\PYZsh{} Add embedding layer of dimension (vocab\PYZus{}size, d\PYZus{}model)}
        \PY{n}{tl}\PY{o}{.}\PY{n}{Embedding}\PY{p}{(}\PY{n}{vocab\PYZus{}size}\PY{p}{,} \PY{n}{d\PYZus{}model}\PY{p}{)}\PY{p}{,}  
        \PY{c+c1}{\PYZsh{} Use dropout with rate and mode specified}
        \PY{n}{tl}\PY{o}{.}\PY{n}{Dropout}\PY{p}{(}\PY{n}{rate}\PY{o}{=}\PY{n}{dropout}\PY{p}{,} \PY{n}{mode}\PY{o}{=}\PY{n}{mode}\PY{p}{)}\PY{p}{,} 
        \PY{c+c1}{\PYZsh{} Add positional encoding layer with maximum input length and mode specified}
        \PY{n}{tl}\PY{o}{.}\PY{n}{PositionalEncoding}\PY{p}{(}\PY{n}{max\PYZus{}len}\PY{o}{=}\PY{n}{max\PYZus{}len}\PY{p}{,} \PY{n}{mode}\PY{o}{=}\PY{n}{mode}\PY{p}{)}\PY{p}{]} 
\end{Verbatim}
\end{tcolorbox}

    \hypertarget{multi-head-causal-attention}{%
\subsection{Multi-head causal
attention}\label{multi-head-causal-attention}}

The layers and array dimensions involved in multi-head causal attention
(which looks at previous words in the input text) are summarized in the
figure below:

\texttt{tl.CausalAttention()} does all of this for you! You might be
wondering, though, whether you need to pass in your input text 3 times,
since for causal attention, the queries Q, keys K, and values V all come
from the same source. Fortunately, \texttt{tl.CausalAttention()} handles
this as well by making use of the
\href{https://trax-ml.readthedocs.io/en/latest/trax.layers.html\#module-trax.layers.combinators}{\texttt{tl.Branch()}}
combinator layer. In general, each branch within a \texttt{tl.Branch()}
layer performs parallel operations on copies of the layer's inputs. For
causal attention, each branch (representing Q, K, and V) applies a
linear transformation (i.e.~a dense layer without a subsequent
activation) to its copy of the input, then splits that result into
heads. You can see the syntax for this in the screenshot from the
\texttt{trax.layers.attention.py}
\href{https://github.com/google/trax/blob/master/trax/layers/attention.py}{source
code} below:

    \hypertarget{feed-forward-layer}{%
\subsection{Feed-forward layer}\label{feed-forward-layer}}

\begin{itemize}
\tightlist
\item
  Typically ends with a ReLU activation, but we'll leave open the
  possibility of a different activation
\item
  Most of the parameters are here
\end{itemize}

    \begin{tcolorbox}[breakable, size=fbox, boxrule=1pt, pad at break*=1mm,colback=cellbackground, colframe=cellborder]
\prompt{In}{incolor}{3}{\boxspacing}
\begin{Verbatim}[commandchars=\\\{\}]
\PY{k}{def} \PY{n+nf}{FeedForward}\PY{p}{(}\PY{n}{d\PYZus{}model}\PY{p}{,} \PY{n}{d\PYZus{}ff}\PY{p}{,} \PY{n}{dropout}\PY{p}{,} \PY{n}{mode}\PY{p}{,} \PY{n}{ff\PYZus{}activation}\PY{p}{)}\PY{p}{:}
    \PY{l+s+sd}{\PYZdq{}\PYZdq{}\PYZdq{}Returns a list of layers that implements a feed\PYZhy{}forward block.}

\PY{l+s+sd}{    The input is an activation tensor.}

\PY{l+s+sd}{    Args:}
\PY{l+s+sd}{        d\PYZus{}model (int):  depth of embedding.}
\PY{l+s+sd}{        d\PYZus{}ff (int): depth of feed\PYZhy{}forward layer.}
\PY{l+s+sd}{        dropout (float): dropout rate (how much to drop out).}
\PY{l+s+sd}{        mode (str): \PYZsq{}train\PYZsq{} or \PYZsq{}eval\PYZsq{}.}
\PY{l+s+sd}{        ff\PYZus{}activation (function): the non\PYZhy{}linearity in feed\PYZhy{}forward layer.}

\PY{l+s+sd}{    Returns:}
\PY{l+s+sd}{        list: list of trax.layers.combinators.Serial that maps an activation tensor to an activation tensor.}
\PY{l+s+sd}{    \PYZdq{}\PYZdq{}\PYZdq{}}
    
    \PY{c+c1}{\PYZsh{} Create feed\PYZhy{}forward block (list) with two dense layers with dropout and input normalized}
    \PY{k}{return} \PY{p}{[} 
        \PY{c+c1}{\PYZsh{} Normalize layer inputs}
        \PY{n}{tl}\PY{o}{.}\PY{n}{LayerNorm}\PY{p}{(}\PY{p}{)}\PY{p}{,} 
        \PY{c+c1}{\PYZsh{} Add first feed forward (dense) layer (don\PYZsq{}t forget to set the correct value for n\PYZus{}units)}
        \PY{n}{tl}\PY{o}{.}\PY{n}{Dense}\PY{p}{(}\PY{n}{d\PYZus{}ff}\PY{p}{)}\PY{p}{,} 
        \PY{c+c1}{\PYZsh{} Add activation function passed in as a parameter (you need to call it!)}
        \PY{n}{ff\PYZus{}activation}\PY{p}{(}\PY{p}{)}\PY{p}{,}  \PY{c+c1}{\PYZsh{} Generally ReLU}
        \PY{c+c1}{\PYZsh{} Add dropout with rate and mode specified (i.e., don\PYZsq{}t use dropout during evaluation)}
        \PY{n}{tl}\PY{o}{.}\PY{n}{Dropout}\PY{p}{(}\PY{n}{rate}\PY{o}{=}\PY{n}{dropout}\PY{p}{,} \PY{n}{mode}\PY{o}{=}\PY{n}{mode}\PY{p}{)}\PY{p}{,} 
        \PY{c+c1}{\PYZsh{} Add second feed forward layer (don\PYZsq{}t forget to set the correct value for n\PYZus{}units)}
        \PY{n}{tl}\PY{o}{.}\PY{n}{Dense}\PY{p}{(}\PY{n}{d\PYZus{}model}\PY{p}{)}\PY{p}{,} 
        \PY{c+c1}{\PYZsh{} Add dropout with rate and mode specified (i.e., don\PYZsq{}t use dropout during evaluation)}
        \PY{n}{tl}\PY{o}{.}\PY{n}{Dropout}\PY{p}{(}\PY{n}{rate}\PY{o}{=}\PY{n}{dropout}\PY{p}{,} \PY{n}{mode}\PY{o}{=}\PY{n}{mode}\PY{p}{)} 
    \PY{p}{]}
\end{Verbatim}
\end{tcolorbox}

    \hypertarget{decoder-block}{%
\subsection{Decoder block}\label{decoder-block}}

Here, we return a list containing two residual blocks. The first wraps
around the causal attention layer, whose inputs are normalized and to
which we apply dropout regulation. The second wraps around the
feed-forward layer. You may notice that the second call to
\texttt{tl.Residual()} doesn't call a normalization layer before calling
the feed-forward layer. This is because the normalization layer is
included in the feed-forward layer.

    \begin{tcolorbox}[breakable, size=fbox, boxrule=1pt, pad at break*=1mm,colback=cellbackground, colframe=cellborder]
\prompt{In}{incolor}{4}{\boxspacing}
\begin{Verbatim}[commandchars=\\\{\}]
\PY{k}{def} \PY{n+nf}{DecoderBlock}\PY{p}{(}\PY{n}{d\PYZus{}model}\PY{p}{,} \PY{n}{d\PYZus{}ff}\PY{p}{,} \PY{n}{n\PYZus{}heads}\PY{p}{,}
                 \PY{n}{dropout}\PY{p}{,} \PY{n}{mode}\PY{p}{,} \PY{n}{ff\PYZus{}activation}\PY{p}{)}\PY{p}{:}
    \PY{l+s+sd}{\PYZdq{}\PYZdq{}\PYZdq{}Returns a list of layers that implements a Transformer decoder block.}

\PY{l+s+sd}{    The input is an activation tensor.}

\PY{l+s+sd}{    Args:}
\PY{l+s+sd}{        d\PYZus{}model (int):  depth of embedding.}
\PY{l+s+sd}{        d\PYZus{}ff (int): depth of feed\PYZhy{}forward layer.}
\PY{l+s+sd}{        n\PYZus{}heads (int): number of attention heads.}
\PY{l+s+sd}{        dropout (float): dropout rate (how much to drop out).}
\PY{l+s+sd}{        mode (str): \PYZsq{}train\PYZsq{} or \PYZsq{}eval\PYZsq{}.}
\PY{l+s+sd}{        ff\PYZus{}activation (function): the non\PYZhy{}linearity in feed\PYZhy{}forward layer.}

\PY{l+s+sd}{    Returns:}
\PY{l+s+sd}{        list: list of trax.layers.combinators.Serial that maps an activation tensor to an activation tensor.}
\PY{l+s+sd}{    \PYZdq{}\PYZdq{}\PYZdq{}}
        
    \PY{c+c1}{\PYZsh{} Add list of two Residual blocks: the attention with normalization and dropout and feed\PYZhy{}forward blocks}
    \PY{k}{return} \PY{p}{[}
      \PY{n}{tl}\PY{o}{.}\PY{n}{Residual}\PY{p}{(}
          \PY{c+c1}{\PYZsh{} Normalize layer input}
          \PY{n}{tl}\PY{o}{.}\PY{n}{LayerNorm}\PY{p}{(}\PY{p}{)}\PY{p}{,} 
          \PY{c+c1}{\PYZsh{} Add causal attention }
          \PY{n}{tl}\PY{o}{.}\PY{n}{CausalAttention}\PY{p}{(}\PY{n}{d\PYZus{}model}\PY{p}{,} \PY{n}{n\PYZus{}heads}\PY{o}{=}\PY{n}{n\PYZus{}heads}\PY{p}{,} \PY{n}{dropout}\PY{o}{=}\PY{n}{dropout}\PY{p}{,} \PY{n}{mode}\PY{o}{=}\PY{n}{mode}\PY{p}{)} 
        \PY{p}{)}\PY{p}{,}
      \PY{n}{tl}\PY{o}{.}\PY{n}{Residual}\PY{p}{(}
          \PY{c+c1}{\PYZsh{} Add feed\PYZhy{}forward block}
          \PY{c+c1}{\PYZsh{} We don\PYZsq{}t need to normalize the layer inputs here. The feed\PYZhy{}forward block takes care of that for us.}
          \PY{n}{FeedForward}\PY{p}{(}\PY{n}{d\PYZus{}model}\PY{p}{,} \PY{n}{d\PYZus{}ff}\PY{p}{,} \PY{n}{dropout}\PY{p}{,} \PY{n}{mode}\PY{p}{,} \PY{n}{ff\PYZus{}activation}\PY{p}{)}
        \PY{p}{)}\PY{p}{,}
      \PY{p}{]}
\end{Verbatim}
\end{tcolorbox}

    \hypertarget{the-transformer-decoder-putting-it-all-together}{%
\subsection{The transformer decoder: putting it all
together}\label{the-transformer-decoder-putting-it-all-together}}

\hypertarget{a.k.a.-repeat-n-times-dense-layer-and-softmax-for-output}{%
\subsection{A.k.a. repeat N times, dense layer and softmax for
output}\label{a.k.a.-repeat-n-times-dense-layer-and-softmax-for-output}}

    \begin{tcolorbox}[breakable, size=fbox, boxrule=1pt, pad at break*=1mm,colback=cellbackground, colframe=cellborder]
\prompt{In}{incolor}{5}{\boxspacing}
\begin{Verbatim}[commandchars=\\\{\}]
\PY{k}{def} \PY{n+nf}{TransformerLM}\PY{p}{(}\PY{n}{vocab\PYZus{}size}\PY{o}{=}\PY{l+m+mi}{33300}\PY{p}{,}
                  \PY{n}{d\PYZus{}model}\PY{o}{=}\PY{l+m+mi}{512}\PY{p}{,}
                  \PY{n}{d\PYZus{}ff}\PY{o}{=}\PY{l+m+mi}{2048}\PY{p}{,}
                  \PY{n}{n\PYZus{}layers}\PY{o}{=}\PY{l+m+mi}{6}\PY{p}{,}
                  \PY{n}{n\PYZus{}heads}\PY{o}{=}\PY{l+m+mi}{8}\PY{p}{,}
                  \PY{n}{dropout}\PY{o}{=}\PY{l+m+mf}{0.1}\PY{p}{,}
                  \PY{n}{max\PYZus{}len}\PY{o}{=}\PY{l+m+mi}{4096}\PY{p}{,}
                  \PY{n}{mode}\PY{o}{=}\PY{l+s+s1}{\PYZsq{}}\PY{l+s+s1}{train}\PY{l+s+s1}{\PYZsq{}}\PY{p}{,}
                  \PY{n}{ff\PYZus{}activation}\PY{o}{=}\PY{n}{tl}\PY{o}{.}\PY{n}{Relu}\PY{p}{)}\PY{p}{:}
    \PY{l+s+sd}{\PYZdq{}\PYZdq{}\PYZdq{}Returns a Transformer language model.}

\PY{l+s+sd}{    The input to the model is a tensor of tokens. (This model uses only the}
\PY{l+s+sd}{    decoder part of the overall Transformer.)}

\PY{l+s+sd}{    Args:}
\PY{l+s+sd}{        vocab\PYZus{}size (int): vocab size.}
\PY{l+s+sd}{        d\PYZus{}model (int):  depth of embedding.}
\PY{l+s+sd}{        d\PYZus{}ff (int): depth of feed\PYZhy{}forward layer.}
\PY{l+s+sd}{        n\PYZus{}layers (int): number of decoder layers.}
\PY{l+s+sd}{        n\PYZus{}heads (int): number of attention heads.}
\PY{l+s+sd}{        dropout (float): dropout rate (how much to drop out).}
\PY{l+s+sd}{        max\PYZus{}len (int): maximum symbol length for positional encoding.}
\PY{l+s+sd}{        mode (str): \PYZsq{}train\PYZsq{}, \PYZsq{}eval\PYZsq{} or \PYZsq{}predict\PYZsq{}, predict mode is for fast inference.}
\PY{l+s+sd}{        ff\PYZus{}activation (function): the non\PYZhy{}linearity in feed\PYZhy{}forward layer.}

\PY{l+s+sd}{    Returns:}
\PY{l+s+sd}{        trax.layers.combinators.Serial: A Transformer language model as a layer that maps from a tensor of tokens}
\PY{l+s+sd}{        to activations over a vocab set.}
\PY{l+s+sd}{    \PYZdq{}\PYZdq{}\PYZdq{}}
    
    \PY{c+c1}{\PYZsh{} Create stack (list) of decoder blocks with n\PYZus{}layers with necessary parameters}
    \PY{n}{decoder\PYZus{}blocks} \PY{o}{=} \PY{p}{[} 
        \PY{n}{DecoderBlock}\PY{p}{(}\PY{n}{d\PYZus{}model}\PY{p}{,} \PY{n}{d\PYZus{}ff}\PY{p}{,} \PY{n}{n\PYZus{}heads}\PY{p}{,} \PY{n}{dropout}\PY{p}{,} \PY{n}{mode}\PY{p}{,} \PY{n}{ff\PYZus{}activation}\PY{p}{)} \PY{k}{for} \PY{n}{\PYZus{}} \PY{o+ow}{in} \PY{n+nb}{range}\PY{p}{(}\PY{n}{n\PYZus{}layers}\PY{p}{)}\PY{p}{]} 

    \PY{c+c1}{\PYZsh{} Create the complete model as written in the figure}
    \PY{k}{return} \PY{n}{tl}\PY{o}{.}\PY{n}{Serial}\PY{p}{(}
        \PY{c+c1}{\PYZsh{} Use teacher forcing (feed output of previous step to current step)}
        \PY{n}{tl}\PY{o}{.}\PY{n}{ShiftRight}\PY{p}{(}\PY{n}{mode}\PY{o}{=}\PY{n}{mode}\PY{p}{)}\PY{p}{,} 
        \PY{c+c1}{\PYZsh{} Add embedding inputs and positional encoder}
        \PY{n}{PositionalEncoder}\PY{p}{(}\PY{n}{vocab\PYZus{}size}\PY{p}{,} \PY{n}{d\PYZus{}model}\PY{p}{,} \PY{n}{dropout}\PY{p}{,} \PY{n}{max\PYZus{}len}\PY{p}{,} \PY{n}{mode}\PY{p}{)}\PY{p}{,}
        \PY{c+c1}{\PYZsh{} Add decoder blocks}
        \PY{n}{decoder\PYZus{}blocks}\PY{p}{,} 
        \PY{c+c1}{\PYZsh{} Normalize layer}
        \PY{n}{tl}\PY{o}{.}\PY{n}{LayerNorm}\PY{p}{(}\PY{p}{)}\PY{p}{,} 

        \PY{c+c1}{\PYZsh{} Add dense layer of vocab\PYZus{}size (since need to select a word to translate to)}
        \PY{c+c1}{\PYZsh{} (a.k.a., logits layer. Note: activation already set by ff\PYZus{}activation)}
        \PY{n}{tl}\PY{o}{.}\PY{n}{Dense}\PY{p}{(}\PY{n}{vocab\PYZus{}size}\PY{p}{)}\PY{p}{,} 
        \PY{c+c1}{\PYZsh{} Get probabilities with Logsoftmax}
        \PY{n}{tl}\PY{o}{.}\PY{n}{LogSoftmax}\PY{p}{(}\PY{p}{)} 
    \PY{p}{)}
\end{Verbatim}
\end{tcolorbox}

    \hypertarget{concluding-remarks}{%
\subsection{Concluding remarks}\label{concluding-remarks}}

In this week's assignment, you'll see how to train a transformer decoder
on the
\href{https://www.tensorflow.org/datasets/catalog/cnn_dailymail}{cnn\_dailymail}
dataset, available from TensorFlow Datasets (part of TensorFlow Data
Services). Because training such a model from scratch is time-intensive,
you'll use a pre-trained model to summarize documents later in the
assignment. Due to time and storage concerns, we will also not train the
decoder on a different summarization dataset in this lab. If you have
the time and space, we encourage you to explore the other
\href{https://www.tensorflow.org/datasets/catalog/overview\#summarization}{summarization}
datasets at TensorFlow Datasets. Which of them might suit your purposes
better than the \texttt{cnn\_dailymail} dataset? Where else can you find
datasets for text summarization models?


    % Add a bibliography block to the postdoc
    
    
    
\end{document}
